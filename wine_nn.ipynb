{
  "cells": [
    {
      "cell_type": "code",
      "execution_count": 3,
      "metadata": {
        "id": "RM5HHtXMAZ5i"
      },
      "outputs": [],
      "source": [
        "import torch\n",
        "import torch.nn as nn\n",
        "import torch.nn.functional as F\n",
        "import pandas as pd\n",
        "from sklearn.model_selection import train_test_split\n",
        "import matplotlib.pyplot as plt\n",
        "from sklearn.preprocessing import LabelEncoder\n",
        "from sklearn.decomposition import PCA\n",
        "from sklearn.preprocessing import StandardScaler"
      ]
    },
    {
      "cell_type": "code",
      "execution_count": 4,
      "metadata": {
        "id": "UVxfV9CiARHl"
      },
      "outputs": [],
      "source": [
        "#download dataset\n",
        "df = pd.read_csv(\"https://gist.githubusercontent.com/tijptjik/9408623/raw/b237fa5848349a14a14e5d4107dc7897c21951f5/wine.csv\", sep = \",\")\n",
        "#df.head(5)\n",
        "#df.tail(5)"
      ]
    },
    {
      "cell_type": "code",
      "execution_count": 5,
      "metadata": {
        "id": "RhLvs42-Al4L"
      },
      "outputs": [],
      "source": [
        "class Model(nn.Module):\n",
        "  #input layer (10 principal components of wine) --> H1 --> H2 --> output\n",
        "  #fc1 = \"fully connected\" layer 1\n",
        "  def __init__(self, in_features=10, h1 = 9, h2 = 9, out_features=3):\n",
        "    super().__init__() #instantiates nn.module\n",
        "    self.fc1 = nn.Linear(in_features, h1)\n",
        "    self.fc2 = nn.Linear(h1, h2)\n",
        "    self.out = nn.Linear(h2, out_features)\n",
        "\n",
        "  def forward(self, x):\n",
        "    x = F.relu(self.fc1(x))\n",
        "    x = F.relu(self.fc2(x))\n",
        "    x = self.out(x)\n",
        "\n",
        "    return x\n"
      ]
    },
    {
      "cell_type": "code",
      "execution_count": 6,
      "metadata": {
        "id": "aiX8Oz2nEMhY"
      },
      "outputs": [],
      "source": [
        "#establish X and y\n",
        "X = df.drop('Wine', axis = 1) #axis = 1 tells pandas to drop a column\n",
        "y = df['Wine']\n",
        "\n",
        "#convert to np arrays, since sci-kit learn requires np array objects\n",
        "#np arrays are also faster\n",
        "X = X.values\n",
        "y = y.values\n",
        "\n",
        "le = LabelEncoder()\n",
        "y = le.fit_transform(y)"
      ]
    },
    {
      "cell_type": "code",
      "execution_count": 7,
      "metadata": {
        "id": "x3pQm_jIEWrC"
      },
      "outputs": [],
      "source": [
        "#split data into testing and training\n",
        "X_train, X_test, y_train, y_test = train_test_split(X, y, test_size = 0.2, random_state = 41)\n",
        "\n",
        "y_train = torch.LongTensor(y_train)\n",
        "y_test = torch.LongTensor(y_test)"
      ]
    },
    {
      "cell_type": "code",
      "execution_count": 8,
      "metadata": {
        "id": "rvr3zI-XFe0Y"
      },
      "outputs": [],
      "source": [
        "from sklearn.decomposition import PCA\n",
        "from sklearn.preprocessing import StandardScaler\n",
        "\n",
        "#standardize\n",
        "scaler = StandardScaler()\n",
        "X_train_scaled = scaler.fit_transform(X_train)\n",
        "X_test_scaled = scaler.transform(X_test)\n",
        "\n",
        "#fit pca\n",
        "pca_full = PCA().fit(X_train_scaled)\n",
        "explained_variance = pca_full.explained_variance_ratio_\n",
        "cumulative_variance = explained_variance.cumsum()\n",
        "\n",
        "#find number of components satisfying 95% variance\n",
        "n_components_95 = (cumulative_variance >= 0.95).argmax() + 1\n",
        "\n",
        "#re-evaluate pca\n",
        "pca = PCA(n_components=n_components_95)\n",
        "X_train_pca = pca.fit_transform(X_train_scaled)\n",
        "X_test_pca = pca.transform(X_test_scaled)\n",
        "\n",
        "#convert to tensors for training\n",
        "X_train_pca = torch.FloatTensor(X_train_pca)\n",
        "X_test_pca = torch.FloatTensor(X_test_pca)\n"
      ]
    },
    {
      "cell_type": "code",
      "execution_count": null,
      "metadata": {
        "id": "xY54Tl0OEmhb"
      },
      "outputs": [],
      "source": [
        "#pick a seed for reproducibility\n",
        "torch.manual_seed(300)\n",
        "# Create an instance of a model\n",
        "model = Model()"
      ]
    },
    {
      "cell_type": "code",
      "execution_count": 10,
      "metadata": {
        "id": "0kALW_77EfuF"
      },
      "outputs": [],
      "source": [
        "#set loss criterion\n",
        "criterion = nn.CrossEntropyLoss()\n",
        "#set optimizer\n",
        "optimizer = torch.optim.Adam(model.parameters(), lr = 0.0001)"
      ]
    },
    {
      "cell_type": "code",
      "execution_count": null,
      "metadata": {
        "colab": {
          "base_uri": "https://localhost:8080/"
        },
        "id": "BFadYSuDEwJr",
        "outputId": "581f523b-ab3d-473d-d45b-3a83c2d5ad2c"
      },
      "outputs": [
        {
          "name": "stdout",
          "output_type": "stream",
          "text": [
            "tensor(1.0998, grad_fn=<NllLossBackward0>)\n"
          ]
        }
      ],
      "source": [
        "#train model\n",
        "epochs = 10000\n",
        "lossList = []\n",
        "best_loss = 10\n",
        "\n",
        "for i in range(epochs):\n",
        "    y_pred = model(X_train_pca)\n",
        "    loss = criterion(y_pred, y_train)\n",
        "    lossList.append(loss.item())\n",
        "\n",
        "    optimizer.zero_grad()\n",
        "    loss.backward()\n",
        "    optimizer.step()\n",
        "\n",
        "    if i % 1000 == 0:\n",
        "        print(loss)\n",
        "\n",
        "    if loss < best_loss:\n",
        "      best_loss = loss\n",
        "      torch.save(model.state_dict(), 'best.pt')\n",
        "\n",
        "model.load_state_dict(torch.load('best.pt'))\n"
      ]
    },
    {
      "cell_type": "code",
      "execution_count": 108,
      "metadata": {
        "colab": {
          "base_uri": "https://localhost:8080/",
          "height": 430
        },
        "id": "ErdslFG1GBag",
        "outputId": "92b93cd6-774c-43c8-f815-a7e675ed555e"
      },
      "outputs": [
        {
          "data": {
            "image/png": "[encoded data removed]",
            "text/plain": [
              "<Figure size 640x480 with 1 Axes>"
            ]
          },
          "metadata": {},
          "output_type": "display_data"
        }
      ],
      "source": [
        "plt.plot(range(epochs), lossList)\n",
        "plt.show()"
      ]
    },
    {
      "cell_type": "code",
      "execution_count": null,
      "metadata": {
        "colab": {
          "base_uri": "https://localhost:8080/"
        },
        "id": "LRDs4rkUIqFe",
        "outputId": "a032600b-a570-4d88-b92b-bac7fd41fa58"
      },
      "outputs": [
        {
          "ename": "NameError",
          "evalue": "name 'torch' is not defined",
          "output_type": "error",
          "traceback": [
            "\u001b[1;31m---------------------------------------------------------------------------\u001b[0m",
            "\u001b[1;31mNameError\u001b[0m                                 Traceback (most recent call last)",
            "Cell \u001b[1;32mIn[2], line 2\u001b[0m\n\u001b[0;32m      1\u001b[0m correct \u001b[38;5;241m=\u001b[39m \u001b[38;5;241m0\u001b[39m\n\u001b[1;32m----> 2\u001b[0m \u001b[38;5;28;01mwith\u001b[39;00m \u001b[43mtorch\u001b[49m\u001b[38;5;241m.\u001b[39mno_grad():\n\u001b[0;32m      3\u001b[0m     \u001b[38;5;28;01mfor\u001b[39;00m i \u001b[38;5;129;01min\u001b[39;00m \u001b[38;5;28mrange\u001b[39m(\u001b[38;5;28mlen\u001b[39m(X_test_pca)):\n\u001b[0;32m      4\u001b[0m         x \u001b[38;5;241m=\u001b[39m X_test_pca[i]\u001b[38;5;241m.\u001b[39munsqueeze(\u001b[38;5;241m0\u001b[39m)\n",
            "\u001b[1;31mNameError\u001b[0m: name 'torch' is not defined"
          ]
        }
      ],
      "source": [
        "import torch #cuz github is acting stupid\n",
        "\n",
        "correct = 0\n",
        "with torch.no_grad():\n",
        "    for i in range(len(X_test_pca)):\n",
        "        x = X_test_pca[i].unsqueeze(0)\n",
        "        y_val = model(x)\n",
        "\n",
        "        predicted = y_val.argmax(dim=1).item()\n",
        "        if predicted == y_test[i].item():\n",
        "            correct += 1\n",
        "\n",
        "print(f\"Correct: {correct}\")\n",
        "print(f\"Total: {len(X_test_pca)}\")\n",
        "print(f\"Accuracy: {correct / len(X_test_pca)}\")"
      ]
    }
  ],
  "metadata": {
    "colab": {
      "provenance": []
    },
    "kernelspec": {
      "display_name": "Python 3",
      "name": "python3"
    },
    "language_info": {
      "codemirror_mode": {
        "name": "ipython",
        "version": 3
      },
      "file_extension": ".py",
      "mimetype": "text/x-python",
      "name": "python",
      "nbconvert_exporter": "python",
      "pygments_lexer": "ipython3",
      "version": "3.10.10"
    }
  },
  "nbformat": 4,
  "nbformat_minor": 0
}
